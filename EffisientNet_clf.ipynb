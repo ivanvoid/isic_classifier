{
 "cells": [
  {
   "cell_type": "markdown",
   "metadata": {},
   "source": [
    "# Plan\n",
    "- [x] load data ~ 30 min\n",
    "- [x] Make prediction ~ 30 min\n",
    "- [x] Train model ~ 10 min\n",
    "    - [x] Fix model ~ 40 min\n",
    "- [x] Submit work ~ 5 min"
   ]
  },
  {
   "cell_type": "code",
   "execution_count": 1,
   "metadata": {},
   "outputs": [],
   "source": [
    "import matplotlib.pyplot as plt\n",
    "import pandas as pd\n",
    "import numpy as np\n",
    "\n",
    "import torch\n",
    "import torch.nn as nn\n",
    "import torch.optim as optim\n",
    "import torchvision.transforms as T \n",
    "from torch.utils.data import Dataset, DataLoader\n",
    "\n",
    "from PIL import Image \n",
    "\n",
    "from efficientnet_pytorch import EfficientNet"
   ]
  },
  {
   "cell_type": "code",
   "execution_count": 3,
   "metadata": {},
   "outputs": [
    {
     "name": "stdout",
     "output_type": "stream",
     "text": [
      "Device: cuda\n"
     ]
    }
   ],
   "source": [
    "'''\n",
    "Global variables\n",
    "'''\n",
    "EPOCHS = 10\n",
    "batch_size = 128\n",
    "\n",
    "device = torch.device(\"cuda\" if torch.cuda.is_available() else \"cpu\")\n",
    "print(f'Device: {device}')"
   ]
  },
  {
   "cell_type": "markdown",
   "metadata": {},
   "source": [
    "## Data preparation \n",
    "Preparing files paths,  \n",
    "Remap and translate to numbers our target values"
   ]
  },
  {
   "cell_type": "code",
   "execution_count": 4,
   "metadata": {},
   "outputs": [],
   "source": [
    "data_path = '../data'\n",
    "path_20 = data_path + '/2020/128x128'\n",
    "path_19 = data_path + '/2019/128x128'"
   ]
  },
  {
   "cell_type": "code",
   "execution_count": 5,
   "metadata": {},
   "outputs": [],
   "source": [
    "df_19 = pd.read_csv(path_19 + '/train.csv')\n",
    "df_20 = pd.read_csv(path_20 + '/train.csv')\n",
    "\n",
    "df_20_test = pd.read_csv(path_20 + '/test.csv')"
   ]
  },
  {
   "cell_type": "code",
   "execution_count": 6,
   "metadata": {},
   "outputs": [],
   "source": [
    "df_19 = df_19[['image_name', 'diagnosis']]\n",
    "df_20 = df_20[['image_name', 'diagnosis']]\n",
    "s\n",
    "df_20_test = df_20_test[['image_name']]"
   ]
  },
  {
   "cell_type": "markdown",
   "metadata": {},
   "source": [
    "### Target values matching"
   ]
  },
  {
   "cell_type": "code",
   "execution_count": 7,
   "metadata": {},
   "outputs": [
    {
     "name": "stdout",
     "output_type": "stream",
     "text": [
      "2019 targets:\n",
      " ['NV' 'MEL' 'BKL' 'DF' 'SCC' 'BCC' 'VASC' 'AK'] \n",
      "\n",
      "2020 targets:\n",
      " ['unknown' 'nevus' 'melanoma' 'seborrheic keratosis' 'lentigo NOS'\n",
      " 'lichenoid keratosis' 'solar lentigo' 'cafe-au-lait macule'\n",
      " 'atypical melanocytic proliferation']\n"
     ]
    }
   ],
   "source": [
    "unique_targets_19 = df_19['diagnosis'].unique()\n",
    "unique_targets_20 = df_20['diagnosis'].unique()\n",
    "\n",
    "print('2019 targets:\\n',unique_targets_19, '\\n')\n",
    "print('2020 targets:\\n',unique_targets_20)"
   ]
  },
  {
   "cell_type": "code",
   "execution_count": 9,
   "metadata": {},
   "outputs": [],
   "source": [
    "remap = {\n",
    "    'atypical melanocytic proliferation':'UN',\n",
    "    'cafe-au-lait macule':'UN',\n",
    "    'solar lentigo':'BLK',\n",
    "    'lichenoid keratosis':'BLK',\n",
    "    'lentigo NOS':'BLK',\n",
    "    'seborrheic keratosis':'BLK',\n",
    "    'melanoma':'MEL',\n",
    "    'nevus':'NV',\n",
    "    'unknown':'UN'}\n",
    "\n",
    "df_20 = df_20.replace(remap)"
   ]
  },
  {
   "cell_type": "code",
   "execution_count": 10,
   "metadata": {},
   "outputs": [
    {
     "name": "stdout",
     "output_type": "stream",
     "text": [
      "Total: ['AK' 'BCC' 'BKL' 'BLK' 'DF' 'MEL' 'NV' 'SCC' 'UN' 'VASC']\n",
      "Replaced: [0 1 2 3 4 5 6 7 8 9]\n",
      "Remap:\n",
      " {'AK': 0, 'BCC': 1, 'BKL': 2, 'BLK': 3, 'DF': 4, 'MEL': 5, 'NV': 6, 'SCC': 7, 'UN': 8, 'VASC': 9}\n"
     ]
    }
   ],
   "source": [
    "total_targets = np.unique(np.append(df_19['diagnosis'].unique(), df_20['diagnosis'].unique()))\n",
    "print('Total:',total_targets)\n",
    "\n",
    "remap = dict(zip(total_targets, np.arange(len(total_targets))))\n",
    "\n",
    "df_20 = df_20.replace(remap)\n",
    "df_19 = df_19.replace(remap)\n",
    "\n",
    "replaced_targets = np.unique(np.append(df_19['diagnosis'].unique(), df_20['diagnosis'].unique()))\n",
    "print('Replaced:', replaced_targets)\n",
    "print('Remap:\\n',remap)"
   ]
  },
  {
   "cell_type": "markdown",
   "metadata": {},
   "source": [
    "### Preparing files paths "
   ]
  },
  {
   "cell_type": "code",
   "execution_count": 11,
   "metadata": {},
   "outputs": [],
   "source": [
    "df_19['image_name'] = [path_19+'/train/'+name+'.jpg' for name in df_19['image_name']]\n",
    "df_20['image_name'] = [path_20+'/train/'+name+'.jpg' for name in df_20['image_name']]\n",
    "\n",
    "df_20_test['image_name'] = [path_20+'/test/'+name+'.jpg' for name in df_20_test['image_name']]"
   ]
  },
  {
   "cell_type": "code",
   "execution_count": 12,
   "metadata": {},
   "outputs": [
    {
     "data": {
      "image/png": "[encoded data removed]",
      "text/plain": [
       "<Figure size 432x288 with 1 Axes>"
      ]
     },
     "metadata": {
      "needs_background": "light"
     },
     "output_type": "display_data"
    }
   ],
   "source": [
    "mega_df = df_19.append(df_20)\n",
    "stats = {l:(mega_df['diagnosis'] == l).sum() for l in mega_df['diagnosis'].unique()}\n",
    "\n",
    "plt.bar(total_targets, [v for _,v in stats.items()])\n",
    "plt.show()"
   ]
  },
  {
   "cell_type": "markdown",
   "metadata": {},
   "source": [
    "### Make Dataset"
   ]
  },
  {
   "cell_type": "code",
   "execution_count": 13,
   "metadata": {},
   "outputs": [],
   "source": [
    "class DatasetISIC(Dataset):\n",
    "    def __init__(self, df:pd.DataFrame, transform=None, isTest=False):\n",
    "        self.df = df\n",
    "        self.transform = transform\n",
    "        self.isTest = isTest\n",
    "        \n",
    "    def __getitem__(self, idx):\n",
    "        if self.isTest: return self._get_test_item(idx)\n",
    "            \n",
    "        path, target = self.df.iloc[idx]\n",
    "        \n",
    "        img = Image.open(path)\n",
    "        if self.transform:\n",
    "            img = self.transform(img)\n",
    "        \n",
    "        return img, target\n",
    "    \n",
    "    def __len__(self):\n",
    "        return self.df.shape[0]\n",
    "    \n",
    "    def _get_test_item(self, idx):\n",
    "        path = self.df.iloc[idx][0]\n",
    "        \n",
    "        img = Image.open(path)\n",
    "        if self.transform:\n",
    "            img = self.transform(img)\n",
    "        return img"
   ]
  },
  {
   "cell_type": "markdown",
   "metadata": {},
   "source": [
    "### Transformations"
   ]
  },
  {
   "cell_type": "code",
   "execution_count": 14,
   "metadata": {},
   "outputs": [],
   "source": [
    "transform = T.Compose([\n",
    "    T.Resize(44),\n",
    "    T.ToTensor(),\n",
    "    T.Normalize((0.485, 0.456, 0.406), (0.229, 0.224, 0.225))\n",
    "])"
   ]
  },
  {
   "cell_type": "markdown",
   "metadata": {},
   "source": [
    "### Make a DataLoader"
   ]
  },
  {
   "cell_type": "code",
   "execution_count": 15,
   "metadata": {},
   "outputs": [],
   "source": [
    "dataset = DatasetISIC(mega_df, transform)\n",
    "loader = DataLoader(dataset, batch_size=batch_size, num_workers=12)"
   ]
  },
  {
   "cell_type": "markdown",
   "metadata": {},
   "source": [
    "## Make a model"
   ]
  },
  {
   "cell_type": "code",
   "execution_count": 16,
   "metadata": {},
   "outputs": [
    {
     "name": "stdout",
     "output_type": "stream",
     "text": [
      "Loaded pretrained weights for efficientnet-b0\n"
     ]
    }
   ],
   "source": [
    "model = EfficientNet.from_pretrained('efficientnet-b0', num_classes=10)"
   ]
  },
  {
   "cell_type": "code",
   "execution_count": 17,
   "metadata": {},
   "outputs": [],
   "source": [
    "# Model reshaping\n",
    "in_features = model._fc.in_features\n",
    "out_features = model._fc.out_features\n",
    "\n",
    "model._fc = nn.Sequential(\n",
    "    nn.Linear(in_features, out_features),\n",
    "    nn.Sigmoid())"
   ]
  },
  {
   "cell_type": "markdown",
   "metadata": {},
   "source": [
    "### Train the model"
   ]
  },
  {
   "cell_type": "code",
   "execution_count": 18,
   "metadata": {},
   "outputs": [],
   "source": [
    "def make_train_step(model, loss_fn, optimizer):\n",
    "    def train_step(x, y):\n",
    "        # set model to train mode\n",
    "        model.train()\n",
    "        # make predictions\n",
    "        yhat = model(x)\n",
    "        # computes loss\n",
    "        loss = loss_fn(yhat, y)\n",
    "        # computes gradients\n",
    "        loss.backward()\n",
    "        # updats parameters and zeroes gradients\n",
    "        optimizer.step()\n",
    "        optimizer.zero_grad()\n",
    "        return loss.item()\n",
    "    return train_step"
   ]
  },
  {
   "cell_type": "code",
   "execution_count": 19,
   "metadata": {},
   "outputs": [],
   "source": [
    "# Preapering to training\n",
    "model.to(device)\n",
    "\n",
    "loss_fn = nn.CrossEntropyLoss()\n",
    "optimizer = optim.SGD(model.parameters(), lr=1e-4, momentum=0.9)\n",
    "\n",
    "train_step = make_train_step(model, loss_fn, optimizer)"
   ]
  },
  {
   "cell_type": "code",
   "execution_count": 20,
   "metadata": {},
   "outputs": [
    {
     "name": "stdout",
     "output_type": "stream",
     "text": [
      "[1/25] loss: 2.31\n",
      "[2/25] loss: 2.29\n",
      "[3/25] loss: 2.27\n",
      "[4/25] loss: 2.25\n",
      "[5/25] loss: 2.23\n",
      "[6/25] loss: 2.21\n",
      "[7/25] loss: 2.20\n",
      "[8/25] loss: 2.19\n",
      "[9/25] loss: 2.17\n",
      "[10/25] loss: 2.16\n",
      "[11/25] loss: 2.15\n",
      "[12/25] loss: 2.14\n",
      "[13/25] loss: 2.13\n",
      "[14/25] loss: 2.13\n",
      "[15/25] loss: 2.12\n",
      "[16/25] loss: 2.11\n",
      "[17/25] loss: 2.10\n",
      "[18/25] loss: 2.09\n",
      "[19/25] loss: 2.09\n",
      "[20/25] loss: 2.08\n",
      "[21/25] loss: 2.08\n",
      "[22/25] loss: 2.07\n",
      "[23/25] loss: 2.06\n",
      "[24/25] loss: 2.06\n",
      "[25/25] loss: 2.05\n"
     ]
    }
   ],
   "source": [
    "# Training loop\n",
    "for epoch in range(EPOCHS):\n",
    "    running_loss = []\n",
    "    for batch_x, batch_y in loader:\n",
    "        batch_x = batch_x.to(device) \n",
    "        batch_y = batch_y.to(device) \n",
    "         \n",
    "        loss = train_step(batch_x, batch_y)\n",
    "        running_loss.append(loss)\n",
    "        \n",
    "    print('[{}/{}] loss: {:.2f}'\n",
    "          .format(epoch+1, EPOCHS, np.mean(running_loss)))"
   ]
  },
  {
   "cell_type": "markdown",
   "metadata": {},
   "source": [
    "## Make a prediction"
   ]
  },
  {
   "cell_type": "code",
   "execution_count": 21,
   "metadata": {},
   "outputs": [],
   "source": [
    "dataset_test = DatasetISIC(df_20_test, transform, isTest=True)\n",
    "loader_test = DataLoader(dataset_test, batch_size=64, num_workers=12)"
   ]
  },
  {
   "cell_type": "code",
   "execution_count": 22,
   "metadata": {},
   "outputs": [],
   "source": [
    "model.eval()\n",
    "predictions = []\n",
    "\n",
    "for batch_x in loader_test:\n",
    "    batch_x = batch_x.to(device)\n",
    "    output = model(batch_x)\n",
    "        \n",
    "    predictions.append(output.detach().cpu().numpy())\n",
    "    "
   ]
  },
  {
   "cell_type": "code",
   "execution_count": 34,
   "metadata": {},
   "outputs": [
    {
     "data": {
      "text/plain": [
       "[<matplotlib.lines.Line2D at 0x7f765ae9e2d0>]"
      ]
     },
     "execution_count": 34,
     "metadata": {},
     "output_type": "execute_result"
    },
    {
     "data": {
      "image/png": "[encoded data removed]",
      "text/plain": [
       "<Figure size 432x288 with 1 Axes>"
      ]
     },
     "metadata": {
      "needs_background": "light"
     },
     "output_type": "display_data"
    }
   ],
   "source": [
    "plt.plot(predictions[0][6])"
   ]
  },
  {
   "cell_type": "code",
   "execution_count": 23,
   "metadata": {},
   "outputs": [],
   "source": [
    "def plot_predictions(preds):\n",
    "    import seaborn as sns\n",
    "    fig, ax = plt.subplots(figsize=(6,3), dpi=120)\n",
    "    sns.distplot(preds, hist_kws={\n",
    "                     'rwidth': 0.75,\n",
    "                     'edgecolor': 'black',\n",
    "                     'alpha': 0.3\n",
    "                 }, color='#1B9CC2')\n",
    "    ax.set_title('Final Predictions')\n",
    "    plt.show()"
   ]
  },
  {
   "cell_type": "code",
   "execution_count": 24,
   "metadata": {},
   "outputs": [
    {
     "data": {
      "image/png": "[encoded data removed]",
      "text/plain": [
       "<Figure size 720x360 with 1 Axes>"
      ]
     },
     "metadata": {
      "needs_background": "light"
     },
     "output_type": "display_data"
    }
   ],
   "source": [
    "final = []\n",
    "for pred in predictions:\n",
    "    final += list(pred[:,5])\n",
    "    \n",
    "plot_predictions(final)"
   ]
  },
  {
   "cell_type": "code",
   "execution_count": 23,
   "metadata": {},
   "outputs": [],
   "source": [
    "final_submission = pd.read_csv(path_20 + '/sample_submission.csv')\n",
    "final_submission['target'] = final\n",
    "final_submission.to_csv('final_submission.csv', index=False)"
   ]
  }
 ],
 "metadata": {
  "kernelspec": {
   "display_name": "Python 3",
   "language": "python",
   "name": "python3"
  },
  "language_info": {
   "codemirror_mode": {
    "name": "ipython",
    "version": 3
   },
   "file_extension": ".py",
   "mimetype": "text/x-python",
   "name": "python",
   "nbconvert_exporter": "python",
   "pygments_lexer": "ipython3",
   "version": "3.7.7"
  }
 },
 "nbformat": 4,
 "nbformat_minor": 4
}
