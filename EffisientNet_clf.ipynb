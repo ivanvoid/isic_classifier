{
 "cells": [
  {
   "cell_type": "markdown",
   "metadata": {},
   "source": [
    "# Plan\n",
    "- [x] load data ~ 30 min\n",
    "- [x] Make prediction ~ 30 min\n",
    "- [x] Train model ~ 10 min\n",
    "    - [x] Fix model ~ 40 min\n",
    "- [x] Submit work ~ 5 min"
   ]
  },
  {
   "cell_type": "code",
   "execution_count": 1,
   "metadata": {},
   "outputs": [],
   "source": [
    "import os\n",
    "import numpy as np\n",
    "import pandas as pd\n",
    "import matplotlib.pyplot as plt\n",
    "\n",
    "import torch\n",
    "import torch.nn as nn\n",
    "import torch.optim as optim\n",
    "import torchvision.transforms as T \n",
    "from torch.utils.data import Dataset, DataLoader\n",
    "\n",
    "from PIL import Image \n",
    "\n",
    "from efficientnet_pytorch import EfficientNet\n",
    "\n",
    "from sklearn.model_selection import KFold\n",
    "from sklearn.metrics import roc_auc_score"
   ]
  },
  {
   "cell_type": "code",
   "execution_count": 2,
   "metadata": {},
   "outputs": [
    {
     "name": "stdout",
     "output_type": "stream",
     "text": [
      "Device: cuda\n"
     ]
    }
   ],
   "source": [
    "'''\n",
    "Global variables\n",
    "'''\n",
    "FOLDS = 5\n",
    "EPOCHS = 10\n",
    "batch_size = 512\n",
    "\n",
    "img_size = 44 # square\n",
    "\n",
    "device = torch.device(\"cuda\" if torch.cuda.is_available() else \"cpu\")\n",
    "print(f'Device: {device}')"
   ]
  },
  {
   "cell_type": "markdown",
   "metadata": {},
   "source": [
    "## Data preparation \n",
    "Preparing files paths,  \n",
    "Remap and translate to numbers our target values"
   ]
  },
  {
   "cell_type": "code",
   "execution_count": 3,
   "metadata": {},
   "outputs": [],
   "source": [
    "data_path = '../data'\n",
    "path_20 = data_path + '/2020/128x128'\n",
    "path_19 = data_path + '/2019/128x128'"
   ]
  },
  {
   "cell_type": "code",
   "execution_count": 4,
   "metadata": {},
   "outputs": [],
   "source": [
    "df_19 = pd.read_csv(path_19 + '/train.csv')\n",
    "df_20 = pd.read_csv(path_20 + '/train.csv')\n",
    "\n",
    "df_20_test = pd.read_csv(path_20 + '/test.csv')"
   ]
  },
  {
   "cell_type": "code",
   "execution_count": 5,
   "metadata": {},
   "outputs": [],
   "source": [
    "# df_19 = df_19[['image_name', 'diagnosis']]\n",
    "# df_20 = df_20[['image_name', 'diagnosis']]\n",
    "\n",
    "df_19 = df_19[['image_name', 'target']]\n",
    "df_20 = df_20[['image_name', 'target']]\n",
    "df_20_test = df_20_test[['image_name']]"
   ]
  },
  {
   "cell_type": "markdown",
   "metadata": {},
   "source": [
    "### Preparing files paths "
   ]
  },
  {
   "cell_type": "code",
   "execution_count": 6,
   "metadata": {},
   "outputs": [],
   "source": [
    "df_19['image_name'] = [path_19+'/train/'+name+'.jpg' for name in df_19['image_name']]\n",
    "df_20['image_name'] = [path_20+'/train/'+name+'.jpg' for name in df_20['image_name']]\n",
    "\n",
    "df_20_test['image_name'] = [path_20+'/test/'+name+'.jpg' for name in df_20_test['image_name']]"
   ]
  },
  {
   "cell_type": "code",
   "execution_count": 7,
   "metadata": {},
   "outputs": [
    {
     "data": {
      "image/png": "[encoded data removed]",
      "text/plain": [
       "<Figure size 432x288 with 1 Axes>"
      ]
     },
     "metadata": {
      "needs_background": "light"
     },
     "output_type": "display_data"
    }
   ],
   "source": [
    "mega_df = df_19.append(df_20)\n",
    "total_targets = np.unique(np.append(df_19['target'].unique(), df_20['target'].unique()))\n",
    "stats = {l:(mega_df['target'] == l).sum() for l in mega_df['target'].unique()}\n",
    "\n",
    "plt.bar(total_targets, [v for _,v in stats.items()])\n",
    "plt.show()"
   ]
  },
  {
   "cell_type": "markdown",
   "metadata": {},
   "source": [
    "### Make Dataset"
   ]
  },
  {
   "cell_type": "code",
   "execution_count": 8,
   "metadata": {},
   "outputs": [],
   "source": [
    "class ISIC_DS(Dataset):\n",
    "    def __init__(self, df:pd.DataFrame, transform=None, isTest=False):\n",
    "        self.df = df\n",
    "        self.transform = transform\n",
    "        self.isTest = isTest\n",
    "        \n",
    "    def __getitem__(self, idx):\n",
    "        if self.isTest: return self._get_test_item(idx)\n",
    "            \n",
    "        path, target = self.df.iloc[idx]\n",
    "        \n",
    "        img = Image.open(path)\n",
    "        if self.transform:\n",
    "            img = self.transform(img)\n",
    "        \n",
    "        return img, target\n",
    "    \n",
    "    def __len__(self):\n",
    "        return self.df.shape[0]\n",
    "    \n",
    "    def _get_test_item(self, idx):\n",
    "        path = self.df.iloc[idx][0]\n",
    "        \n",
    "        img = Image.open(path)\n",
    "        if self.transform:\n",
    "            img = self.transform(img)\n",
    "        return img"
   ]
  },
  {
   "cell_type": "markdown",
   "metadata": {},
   "source": [
    "### Transformations"
   ]
  },
  {
   "cell_type": "code",
   "execution_count": 9,
   "metadata": {},
   "outputs": [],
   "source": [
    "transform = {'train': T.Compose([\n",
    "    T.Resize(img_size),\n",
    "    T.RandomHorizontalFlip(),\n",
    "    T.ToTensor(),\n",
    "    T.Normalize((0.485, 0.456, 0.406), (0.229, 0.224, 0.225))]),\n",
    "            \n",
    "             'val':T.Compose([\n",
    "    T.Resize(img_size),\n",
    "    T.RandomHorizontalFlip(),\n",
    "    T.ToTensor(),\n",
    "    T.Normalize((0.485, 0.456, 0.406), (0.229, 0.224, 0.225))])}\n"
   ]
  },
  {
   "cell_type": "markdown",
   "metadata": {},
   "source": [
    "### Make a DataLoader"
   ]
  },
  {
   "cell_type": "code",
   "execution_count": 10,
   "metadata": {},
   "outputs": [],
   "source": [
    "def get_loaders(df, train_idx, val_idx, bs=batch_size, t=transform, test_df=df_20_test):\n",
    "    loaders = {'train':None, 'val':None, 'test':None}\n",
    "    \n",
    "    loaders['train'] = DataLoader(ISIC_DS(df.iloc[train_idx], t['train']), bs, num_workers=12)\n",
    "    loaders['val']   = DataLoader(ISIC_DS(df.iloc[val_idx], t['val']), bs, num_workers=12)\n",
    "    loaders['test']  = DataLoader(ISIC_DS(test_df, t['val'], isTest=True), bs, num_workers=12)\n",
    "    \n",
    "    return loaders"
   ]
  },
  {
   "cell_type": "markdown",
   "metadata": {},
   "source": [
    "## Get a model"
   ]
  },
  {
   "cell_type": "code",
   "execution_count": 11,
   "metadata": {},
   "outputs": [],
   "source": [
    "def get_model(name, num_classes=2, device=device, sigmoid=True):\n",
    "    if name == 'b0':\n",
    "        model = EfficientNet.from_pretrained('efficientnet-b0', num_classes=num_classes)\n",
    "    elif name == 'b1':\n",
    "        model = EfficientNet.from_pretrained('efficientnet-b1', num_classes=num_classes)\n",
    "       \n",
    "    if sigmoid:\n",
    "        # Model reshaping\n",
    "        in_features = model._fc.in_features\n",
    "        out_features = model._fc.out_features\n",
    "\n",
    "        model._fc = nn.Sequential(\n",
    "            nn.Linear(in_features, out_features),\n",
    "            nn.Sigmoid())\n",
    "        \n",
    "    return model.to(device)"
   ]
  },
  {
   "cell_type": "markdown",
   "metadata": {},
   "source": [
    "## Get test predictions"
   ]
  },
  {
   "cell_type": "code",
   "execution_count": 12,
   "metadata": {},
   "outputs": [],
   "source": [
    "def preds_to_list(predictions):\n",
    "    # make probabilities from predictions\n",
    "    final = []\n",
    "    for pred in predictions:\n",
    "        prob, index = torch.max(pred, 1)\n",
    "        prob[index == 0] = 1 - prob[index == 0]\n",
    "        final += prob.tolist()\n",
    "    return final\n",
    "    \n",
    "def get_test_predictions(loader, prefix=''):\n",
    "    model.eval()\n",
    "    predictions = []\n",
    "\n",
    "    for batch_x in loader:\n",
    "        batch_x = batch_x.to(device)\n",
    "        output = model(batch_x)\n",
    "\n",
    "        predictions.append(output.detach().cpu())\n",
    "        \n",
    "    final = preds_to_list(predictions)\n",
    "        \n",
    "    final_submission = pd.read_csv(path_20 + '/sample_submission.csv')\n",
    "    final_submission['target'] = final\n",
    "    final_submission.to_csv(f'outputs/oof_test_{prefix}.csv', index=False)\n",
    "    "
   ]
  },
  {
   "cell_type": "markdown",
   "metadata": {},
   "source": [
    "## Train the model functions"
   ]
  },
  {
   "cell_type": "code",
   "execution_count": 13,
   "metadata": {},
   "outputs": [],
   "source": [
    "def make_train_step(model, loss_fn, optimizer):\n",
    "    def train_step(x, y):\n",
    "        # set model to train mode\n",
    "        model.train()\n",
    "        # make predictions\n",
    "        yhat = model(x)\n",
    "        # computes loss\n",
    "        loss = loss_fn(yhat, y)\n",
    "        # computes gradients\n",
    "        loss.backward()\n",
    "        # updats parameters and zeroes gradients\n",
    "        optimizer.step()\n",
    "        optimizer.zero_grad()\n",
    "        return yhat, loss.item()\n",
    "    return train_step"
   ]
  },
  {
   "cell_type": "code",
   "execution_count": 14,
   "metadata": {},
   "outputs": [],
   "source": [
    "def make_val_step(model, loss_fn):\n",
    "    def val_step(x, y):\n",
    "        with torch.no_grad():\n",
    "            model.eval()\n",
    "\n",
    "            yhat = model(x)\n",
    "            val_loss = loss_fn(yhat, y)\n",
    "\n",
    "            return val_loss.item()\n",
    "    return val_step"
   ]
  },
  {
   "cell_type": "code",
   "execution_count": 15,
   "metadata": {},
   "outputs": [],
   "source": [
    "# Training loop\n",
    "def train_loop(train_step, val_step, loaders, epochs=EPOCHS):\n",
    "    for epoch in range(epochs):\n",
    "        running_loss = []\n",
    "        running_vloss= []\n",
    "        \n",
    "        running_yhat = []\n",
    "        running_y = []\n",
    "        \n",
    "        for batch_x, batch_y in loaders['train']:\n",
    "            batch_x = batch_x.to(device) \n",
    "            batch_y = batch_y.to(device) \n",
    "\n",
    "            yhat, loss = train_step(batch_x, batch_y)\n",
    "            running_loss.append(loss)\n",
    "            running_yhat.append(yhat.detach().cpu())\n",
    "            running_y += batch_y.detach().cpu().tolist()\n",
    "\n",
    "        for batch_x, batch_y in loaders['val']:\n",
    "            batch_x = batch_x.to(device) \n",
    "            batch_y = batch_y.to(device) \n",
    "            \n",
    "            vloss = val_step(batch_x, batch_y)\n",
    "            running_vloss.append(vloss)\n",
    "            \n",
    "        # Compute auc score\n",
    "        running_yhat = preds_to_list(running_yhat) \n",
    "        auc_score = roc_auc_score(running_y, running_yhat) \n",
    "  \n",
    "        print('[{}/{}] loss: {:.3f} auc: {:.3f}'\n",
    "              .format(epoch+1, epochs, np.mean(running_loss), auc_score))\n",
    "    return np.mean(running_loss), auc_score"
   ]
  },
  {
   "cell_type": "code",
   "execution_count": 16,
   "metadata": {},
   "outputs": [],
   "source": [
    "def save_loss_auc(loss, auc, fold, m_name=''):\n",
    "    file_name = 'outputs/models_oof_info.csv'\n",
    "    \n",
    "    head=['model_name', 'fold', 'loss', 'auc']\n",
    "\n",
    "    df = pd.DataFrame(columns=head)\n",
    "\n",
    "    new_row = dict(zip(head, [m_name, fold, loss, auc]))\n",
    "\n",
    "    df = df.append(new_row, ignore_index=True)\n",
    "\n",
    "    if os.path.exists(file_name):\n",
    "        df.to_csv(file_name, mode='a', header=False, index=False)\n",
    "    else:\n",
    "        df.to_csv(file_name, index=False)\n",
    "        \n",
    "def save_val_preds(loader, prefix=''):\n",
    "    file_name = f'outputs/oof_val_{prefix}.csv'\n",
    "    \n",
    "    oof_preds = []\n",
    "    oof_y = []\n",
    "    \n",
    "    for batch_x, y in loader:\n",
    "        batch_x = batch_x.to(device)  \n",
    "\n",
    "        with torch.no_grad():\n",
    "            model.eval()\n",
    "            yhat = model(batch_x)\n",
    "            \n",
    "            oof_preds.append(yhat.detach().cpu())\n",
    "            oof_y += y.tolist()\n",
    "            \n",
    "    oof_preds = preds_to_list(oof_preds)\n",
    "    \n",
    "    df = pd.DataFrame()\n",
    "    df['y_true'] = oof_y\n",
    "    df['y_pred'] = oof_preds\n",
    "    df.to_csv(file_name, index=False)\n",
    "    "
   ]
  },
  {
   "cell_type": "code",
   "execution_count": 26,
   "metadata": {
    "collapsed": true,
    "jupyter": {
     "outputs_hidden": true
    }
   },
   "outputs": [
    {
     "name": "stdout",
     "output_type": "stream",
     "text": [
      "FOLD: 0\n",
      "Loaded pretrained weights for efficientnet-b1\n",
      "[1/3] loss: 0.705 auc: 0.499\n",
      "[2/3] loss: 0.686 auc: 0.498\n",
      "[3/3] loss: 0.669 auc: 0.499\n",
      "FOLD: 1\n",
      "Loaded pretrained weights for efficientnet-b1\n",
      "[1/3] loss: 0.683 auc: 0.548\n",
      "[2/3] loss: 0.666 auc: 0.539\n",
      "[3/3] loss: 0.652 auc: 0.527\n",
      "FOLD: 2\n",
      "Loaded pretrained weights for efficientnet-b1\n",
      "[1/3] loss: 0.700 auc: 0.519\n",
      "[2/3] loss: 0.681 auc: 0.530\n",
      "[3/3] loss: 0.664 auc: 0.522\n",
      "FOLD: 3\n",
      "Loaded pretrained weights for efficientnet-b1\n",
      "[1/3] loss: 0.696 auc: 0.507\n",
      "[2/3] loss: 0.678 auc: 0.519\n",
      "[3/3] loss: 0.662 auc: 0.519\n",
      "FOLD: 4\n",
      "Loaded pretrained weights for efficientnet-b1\n",
      "[1/3] loss: 0.670 auc: 0.499\n",
      "[2/3] loss: 0.654 auc: 0.506\n",
      "[3/3] loss: 0.641 auc: 0.499\n"
     ]
    }
   ],
   "source": [
    "##### K-fold cross validation\n",
    "skf = KFold(n_splits=FOLDS, shuffle=True, random_state=95)\n",
    "total_idx = np.arange(mega_df.shape[0])\n",
    "\n",
    "model_name = 'b1'\n",
    "\n",
    "for fold, (train_idx, val_idx) in enumerate(skf.split(total_idx)):\n",
    "    print(f'FOLD: {fold}')\n",
    "    # Set data\n",
    "    loaders = get_loaders(mega_df, train_idx, val_idx)\n",
    "    \n",
    "    # Set model\n",
    "    model = get_model(model_name, device=device)\n",
    "\n",
    "    # Preapering to training\n",
    "    loss_fn = nn.CrossEntropyLoss()\n",
    "    optimizer = optim.SGD(model.parameters(), lr=1e-4, momentum=0.9)\n",
    "\n",
    "    train_step = make_train_step(model, loss_fn, optimizer)\n",
    "\n",
    "    # Set train/val step\n",
    "    train_step = make_train_step(model, loss_fn, optimizer)\n",
    "    val_step = make_val_step(model, loss_fn)\n",
    "    \n",
    "    # Train loop\n",
    "    loss, auc = train_loop(train_step, val_step, loaders, epochs=3)\n",
    "    \n",
    "    # Prediction loop\n",
    "    get_test_predictions(loaders['test'], prefix=model_name+'_'+str(fold))\n",
    "    save_val_preds(loaders['val'], prefix=model_name+'_'+str(fold))\n",
    "#     save_loss_auc(loss, auc, fold, model_name)"
   ]
  },
  {
   "cell_type": "markdown",
   "metadata": {},
   "source": [
    "## Model Ensembling"
   ]
  },
  {
   "cell_type": "code",
   "execution_count": 73,
   "metadata": {},
   "outputs": [],
   "source": [
    "all_scores = []\n",
    "\n",
    "# get total oof predictions\n",
    "oof = {'b0':pd.DataFrame(), 'b1':pd.DataFrame()}\n",
    "\n",
    "for i in range(5):\n",
    "    oof['b0'] = pd.concat([oof['b0'], pd.read_csv(f'outputs/oof_val_b0_{i}.csv')], ignore_index=True)\n",
    "    oof['b1'] = pd.concat([oof['b1'], pd.read_csv(f'outputs/oof_val_b1_{i}.csv')], ignore_index=True)\n",
    "\n",
    "for w in np.arange(0,1,0.01):\n",
    "    y_pred = w * oof['b0']['y_pred'].values + (1-w)*oof['b1']['y_pred'].values\n",
    "\n",
    "    auc = roc_auc_score(oof['b0']['y_true'], y_pred)\n",
    "\n",
    "    all_scores.append(auc)"
   ]
  },
  {
   "cell_type": "code",
   "execution_count": 82,
   "metadata": {},
   "outputs": [
    {
     "name": "stdout",
     "output_type": "stream",
     "text": [
      "Weight: 0.99, AUC: 0.483\n"
     ]
    }
   ],
   "source": [
    "max_idx = np.argmax(all_scores)\n",
    "max_w = np.arange(0, 1, 0.01)[max_idx]\n",
    "\n",
    "print('Weight: {}, AUC: {:.3f}'\n",
    "      .format(max_w, all_scores[max_idx]))"
   ]
  },
  {
   "cell_type": "code",
   "execution_count": 92,
   "metadata": {},
   "outputs": [],
   "source": [
    "oof_test = {'b0':[], 'b1':[]}\n",
    "\n",
    "for i in range(5):\n",
    "    oof_test['b0'] += [pd.read_csv(f'outputs/oof_test_b0_{i}.csv')['target'].values] \n",
    "    oof_test['b1'] += [pd.read_csv(f'outputs/oof_test_b1_{i}.csv')['target'].values] \n",
    "\n",
    "oof_test['b0'] = np.mean(oof_test['b0'], 0)\n",
    "oof_test['b1'] = np.mean(oof_test['b1'], 0)\n",
    "\n",
    "\n",
    "y_pred = max_w * oof_test['b0'] + (1-max_w)*oof_test['b1']['target'].values\n"
   ]
  },
  {
   "cell_type": "code",
   "execution_count": 99,
   "metadata": {},
   "outputs": [
    {
     "data": {
      "text/plain": [
       "(10982,)"
      ]
     },
     "execution_count": 99,
     "metadata": {},
     "output_type": "execute_result"
    }
   ],
   "source": []
  },
  {
   "cell_type": "markdown",
   "metadata": {},
   "source": [
    "## Final submission"
   ]
  },
  {
   "cell_type": "code",
   "execution_count": null,
   "metadata": {},
   "outputs": [],
   "source": [
    "def plot_predictions(preds):\n",
    "    import seaborn as sns\n",
    "    fig, ax = plt.subplots(figsize=(6,3), dpi=120)\n",
    "    sns.distplot(preds, hist_kws={\n",
    "                     'rwidth': 0.75,\n",
    "                     'edgecolor': 'black',\n",
    "                     'alpha': 0.3\n",
    "                 }, color='#1B9CC2')\n",
    "    ax.set_title('Final Predictions')\n",
    "    plt.show()"
   ]
  },
  {
   "cell_type": "code",
   "execution_count": null,
   "metadata": {},
   "outputs": [],
   "source": [
    "plot_predictions(final)"
   ]
  },
  {
   "cell_type": "code",
   "execution_count": null,
   "metadata": {},
   "outputs": [],
   "source": [
    "final_submission = pd.read_csv(path_20 + '/sample_submission.csv')\n",
    "final_submission['target'] = final\n",
    "final_submission.to_csv('final_submission.csv', index=False)"
   ]
  }
 ],
 "metadata": {
  "kernelspec": {
   "display_name": "Python 3",
   "language": "python",
   "name": "python3"
  },
  "language_info": {
   "codemirror_mode": {
    "name": "ipython",
    "version": 3
   },
   "file_extension": ".py",
   "mimetype": "text/x-python",
   "name": "python",
   "nbconvert_exporter": "python",
   "pygments_lexer": "ipython3",
   "version": "3.7.7"
  }
 },
 "nbformat": 4,
 "nbformat_minor": 4
}
